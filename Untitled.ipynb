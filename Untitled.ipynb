{
 "cells": [
  {
   "cell_type": "code",
   "execution_count": 5,
   "id": "f75d8f6e-668e-4505-bdb8-30c06534fc28",
   "metadata": {},
   "outputs": [
    {
     "name": "stdout",
     "output_type": "stream",
     "text": [
      "Renamed: 1a.cpg -> 1.cpg\n",
      "Renamed: 1a.dbf -> 1.dbf\n",
      "Renamed: 1a.prj -> 1.prj\n",
      "Renamed: 1a.sbn -> 1.sbn\n",
      "Renamed: 1a.sbx -> 1.sbx\n",
      "Renamed: 1a.shp -> 1.shp\n",
      "Renamed: 1a.shp.xml -> 1.shp.xml\n",
      "Renamed: 1a.shx -> 1.shx\n",
      "Renamed: 2a.cpg -> 2.cpg\n",
      "Renamed: 2a.dbf -> 2.dbf\n",
      "Renamed: 2a.prj -> 2.prj\n",
      "Renamed: 2a.sbn -> 2.sbn\n",
      "Renamed: 2a.sbx -> 2.sbx\n",
      "Renamed: 2a.shp -> 2.shp\n",
      "Renamed: 2a.shp.xml -> 2.shp.xml\n",
      "Renamed: 2a.shx -> 2.shx\n",
      "Renamed: 3a.cpg -> 3.cpg\n",
      "Renamed: 3a.dbf -> 3.dbf\n",
      "Renamed: 3a.prj -> 3.prj\n",
      "Renamed: 3a.sbn -> 3.sbn\n",
      "Renamed: 3a.sbx -> 3.sbx\n",
      "Renamed: 3a.shp -> 3.shp\n",
      "Renamed: 3a.shp.xml -> 3.shp.xml\n",
      "Renamed: 3a.shx -> 3.shx\n",
      "Renamed: 4a.cpg -> 4.cpg\n",
      "Renamed: 4a.dbf -> 4.dbf\n",
      "Renamed: 4a.prj -> 4.prj\n",
      "Renamed: 4a.sbn -> 4.sbn\n",
      "Renamed: 4a.sbx -> 4.sbx\n",
      "Renamed: 4a.shp -> 4.shp\n",
      "Renamed: 4a.shp.xml -> 4.shp.xml\n",
      "Renamed: 4a.shx -> 4.shx\n",
      "Renamed: 5a.cpg -> 5.cpg\n",
      "Renamed: 5a.dbf -> 5.dbf\n",
      "Renamed: 5a.prj -> 5.prj\n",
      "Renamed: 5a.sbn -> 5.sbn\n",
      "Renamed: 5a.sbx -> 5.sbx\n",
      "Renamed: 5a.shp -> 5.shp\n",
      "Renamed: 5a.shp.xml -> 5.shp.xml\n",
      "Renamed: 5a.shx -> 5.shx\n",
      "Proses rename selesai!\n"
     ]
    }
   ],
   "source": [
    "import os\n",
    "\n",
    "# Folder tempat file berada\n",
    "folder_path = \"SAM SEMUA\"\n",
    "\n",
    "# Mapping angka awal\n",
    "rename_mapping = {\n",
    "    \"1a\": \"1\",\n",
    "    \"2a\": \"2\",\n",
    "    \"3a\": \"3\",\n",
    "    \"4a\": \"4\",\n",
    "    \"5a\": \"5\"\n",
    "}\n",
    "\n",
    "# Proses rename\n",
    "for file_name in os.listdir(folder_path):\n",
    "    # Cek apakah dua karakter pertama sesuai mapping\n",
    "    if file_name[:2] in rename_mapping:\n",
    "        # Membuat nama file baru\n",
    "        new_file_name = rename_mapping[file_name[:2]] + file_name[2:]\n",
    "        \n",
    "        # Path lama dan baru\n",
    "        old_file_path = os.path.join(folder_path, file_name)\n",
    "        new_file_path = os.path.join(folder_path, new_file_name)\n",
    "        \n",
    "        # Melakukan rename\n",
    "        os.rename(old_file_path, new_file_path)\n",
    "        print(f\"Renamed: {file_name} -> {new_file_name}\")\n",
    "\n",
    "print(\"Proses rename selesai!\")\n"
   ]
  },
  {
   "cell_type": "code",
   "execution_count": null,
   "id": "20412035-6131-4039-a0b5-e84cd8779a55",
   "metadata": {},
   "outputs": [],
   "source": []
  }
 ],
 "metadata": {
  "kernelspec": {
   "display_name": "Python 3 (ipykernel)",
   "language": "python",
   "name": "python3"
  },
  "language_info": {
   "codemirror_mode": {
    "name": "ipython",
    "version": 3
   },
   "file_extension": ".py",
   "mimetype": "text/x-python",
   "name": "python",
   "nbconvert_exporter": "python",
   "pygments_lexer": "ipython3",
   "version": "3.11.0"
  }
 },
 "nbformat": 4,
 "nbformat_minor": 5
}
