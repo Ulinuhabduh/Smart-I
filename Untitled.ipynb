{
 "cells": [
  {
   "cell_type": "code",
   "execution_count": 3,
   "id": "f75d8f6e-668e-4505-bdb8-30c06534fc28",
   "metadata": {},
   "outputs": [
    {
     "name": "stdout",
     "output_type": "stream",
     "text": [
      "Proses rename selesai!\n"
     ]
    }
   ],
   "source": [
    "import os\n",
    "\n",
    "# Folder tempat file berada\n",
    "folder_path = \"SAM SEMUA\"\n",
    "\n",
    "# Mapping angka awal\n",
    "rename_mapping = {\n",
    "    \"1a\": \"1\",\n",
    "    \"2a\": \"2\",\n",
    "    \"3a\": \"3\",\n",
    "    \"4a\": \"4\",\n",
    "    \"5a\": \"5\"\n",
    "}\n",
    "\n",
    "# Proses rename\n",
    "for file_name in os.listdir(folder_path):\n",
    "    if file_name[0:] in rename_mapping:\n",
    "        # Membuat nama file baru\n",
    "        new_file_name = rename_mapping[file_name[0:1]] + file_name[2:]\n",
    "        \n",
    "        # Path lama dan baru\n",
    "        old_file_path = os.path.join(folder_path, file_name)\n",
    "        new_file_path = os.path.join(folder_path, new_file_name)\n",
    "        \n",
    "        # Melakukan rename\n",
    "        os.rename(old_file_path, new_file_path)\n",
    "        print(f\"Renamed: {file_name} -> {new_file_name}\")\n",
    "\n",
    "print(\"Proses rename selesai!\")\n"
   ]
  },
  {
   "cell_type": "code",
   "execution_count": null,
   "id": "20412035-6131-4039-a0b5-e84cd8779a55",
   "metadata": {},
   "outputs": [],
   "source": []
  }
 ],
 "metadata": {
  "kernelspec": {
   "display_name": "Python 3 (ipykernel)",
   "language": "python",
   "name": "python3"
  },
  "language_info": {
   "codemirror_mode": {
    "name": "ipython",
    "version": 3
   },
   "file_extension": ".py",
   "mimetype": "text/x-python",
   "name": "python",
   "nbconvert_exporter": "python",
   "pygments_lexer": "ipython3",
   "version": "3.11.0"
  }
 },
 "nbformat": 4,
 "nbformat_minor": 5
}
