{
 "cells": [
  {
   "cell_type": "code",
   "execution_count": 1,
   "id": "f75d8f6e-668e-4505-bdb8-30c06534fc28",
   "metadata": {},
   "outputs": [
    {
     "name": "stdout",
     "output_type": "stream",
     "text": [
      "Renamed: 1.cpg -> 0.cpg\n",
      "Renamed: 1.dbf -> 0.dbf\n",
      "Renamed: 1.prj -> 0.prj\n",
      "Renamed: 1.sbn -> 0.sbn\n",
      "Renamed: 1.sbx -> 0.sbx\n",
      "Renamed: 1.shp -> 0.shp\n",
      "Renamed: 1.shp.xml -> 0.shp.xml\n",
      "Renamed: 1.shx -> 0.shx\n",
      "Renamed: 2.cpg -> 1.cpg\n",
      "Renamed: 2.dbf -> 1.dbf\n",
      "Renamed: 2.prj -> 1.prj\n",
      "Renamed: 2.sbn -> 1.sbn\n",
      "Renamed: 2.sbx -> 1.sbx\n",
      "Renamed: 2.shp -> 1.shp\n",
      "Renamed: 2.shp.xml -> 1.shp.xml\n",
      "Renamed: 2.shx -> 1.shx\n",
      "Renamed: 3.cpg -> 2.cpg\n",
      "Renamed: 3.dbf -> 2.dbf\n",
      "Renamed: 3.prj -> 2.prj\n",
      "Renamed: 3.sbn -> 2.sbn\n",
      "Renamed: 3.sbx -> 2.sbx\n",
      "Renamed: 3.shp -> 2.shp\n",
      "Renamed: 3.shp.xml -> 2.shp.xml\n",
      "Renamed: 3.shx -> 2.shx\n",
      "Renamed: 4.cpg -> 3.cpg\n",
      "Renamed: 4.dbf -> 3.dbf\n",
      "Renamed: 4.prj -> 3.prj\n",
      "Renamed: 4.sbn -> 3.sbn\n",
      "Renamed: 4.sbx -> 3.sbx\n",
      "Renamed: 4.shp -> 3.shp\n",
      "Renamed: 4.shp.xml -> 3.shp.xml\n",
      "Renamed: 4.shx -> 3.shx\n",
      "Renamed: 5.cpg -> 4.cpg\n",
      "Renamed: 5.dbf -> 4.dbf\n",
      "Renamed: 5.prj -> 4.prj\n",
      "Renamed: 5.sbn -> 4.sbn\n",
      "Renamed: 5.sbx -> 4.sbx\n",
      "Renamed: 5.shp -> 4.shp\n",
      "Renamed: 5.shp.xml -> 4.shp.xml\n",
      "Renamed: 5.shx -> 4.shx\n",
      "Proses rename selesai!\n"
     ]
    }
   ],
   "source": [
    "import os\n",
    "\n",
    "# Folder tempat file berada\n",
    "folder_path = \"SAM SEMUA\"\n",
    "\n",
    "# Mapping angka awal\n",
    "rename_mapping = {\n",
    "    \"1\": \"0\",\n",
    "    \"2\": \"1\",\n",
    "    \"3\": \"2\",\n",
    "    \"4\": \"3\",\n",
    "    \"5\": \"4\"\n",
    "}\n",
    "\n",
    "# Proses rename\n",
    "for file_name in os.listdir(folder_path):\n",
    "    # Cek apakah dua karakter pertama sesuai mapping\n",
    "    if file_name[:1] in rename_mapping:\n",
    "        # Membuat nama file baru\n",
    "        new_file_name = rename_mapping[file_name[:1]] + file_name[1:]\n",
    "        \n",
    "        # Path lama dan baru\n",
    "        old_file_path = os.path.join(folder_path, file_name)\n",
    "        new_file_path = os.path.join(folder_path, new_file_name)\n",
    "        \n",
    "        # Melakukan rename\n",
    "        os.rename(old_file_path, new_file_path)\n",
    "        print(f\"Renamed: {file_name} -> {new_file_name}\")\n",
    "\n",
    "print(\"Proses rename selesai!\")\n"
   ]
  },
  {
   "cell_type": "code",
   "execution_count": null,
   "id": "20412035-6131-4039-a0b5-e84cd8779a55",
   "metadata": {},
   "outputs": [],
   "source": []
  }
 ],
 "metadata": {
  "kernelspec": {
   "display_name": "Python 3 (ipykernel)",
   "language": "python",
   "name": "python3"
  },
  "language_info": {
   "codemirror_mode": {
    "name": "ipython",
    "version": 3
   },
   "file_extension": ".py",
   "mimetype": "text/x-python",
   "name": "python",
   "nbconvert_exporter": "python",
   "pygments_lexer": "ipython3",
   "version": "3.11.0"
  }
 },
 "nbformat": 4,
 "nbformat_minor": 5
}
